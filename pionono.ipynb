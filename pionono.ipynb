{
  "nbformat": 4,
  "nbformat_minor": 0,
  "metadata": {
    "colab": {
      "provenance": []
    },
    "kernelspec": {
      "name": "python3",
      "display_name": "Python 3"
    },
    "language_info": {
      "name": "python"
    }
  },
  "cells": [
    {
      "cell_type": "code",
      "execution_count": 1,
      "metadata": {
        "colab": {
          "base_uri": "https://localhost:8080/"
        },
        "id": "_tlg_5JTHaNm",
        "outputId": "928531b8-6d56-495f-9f85-236f47f08428"
      },
      "outputs": [
        {
          "output_type": "stream",
          "name": "stdout",
          "text": [
            "Mounted at /content/drive\n"
          ]
        }
      ],
      "source": [
        "from google.colab import drive\n",
        "drive.mount('/content/drive')"
      ]
    },
    {
      "cell_type": "code",
      "source": [
        "import os\n",
        "\n",
        "# 确保 requirements.txt 文件路径正确\n",
        "requirements_file = \"/content/drive/MyDrive/pionono_segmentation-main/requirements.txt\"\n",
        "\n",
        "# 检查文件是否存在\n",
        "if os.path.exists(requirements_file):\n",
        "    print(f\"{requirements_file} 文件已找到。\")\n",
        "else:\n",
        "    print(f\"{requirements_file} 文件未找到。请确保路径正确。\")"
      ],
      "metadata": {
        "colab": {
          "base_uri": "https://localhost:8080/"
        },
        "id": "Aa0XOLUrjR_a",
        "outputId": "e1ec1fdc-3645-4769-8e41-bd627435c797"
      },
      "execution_count": 2,
      "outputs": [
        {
          "output_type": "stream",
          "name": "stdout",
          "text": [
            "/content/drive/MyDrive/pionono_segmentation-main/requirements.txt 文件已找到。\n"
          ]
        }
      ]
    },
    {
      "cell_type": "code",
      "source": [
        "!pip list"
      ],
      "metadata": {
        "id": "6eBxTR-OP9DB"
      },
      "execution_count": null,
      "outputs": []
    },
    {
      "cell_type": "code",
      "source": [
        "!pip install --upgrade pip setuptools\n",
        "!apt-get install -y build-essential"
      ],
      "metadata": {
        "id": "QCyT-DSFlGH2"
      },
      "execution_count": null,
      "outputs": []
    },
    {
      "cell_type": "code",
      "source": [
        "if os.path.exists(requirements_file):\n",
        "    # 安装 requirements.txt 中列出的所有包\n",
        "    !pip install -r {requirements_file}\n",
        "else:\n",
        "    print(f\"{requirements_file} 文件未找到。请确保已正确上传。\")"
      ],
      "metadata": {
        "colab": {
          "base_uri": "https://localhost:8080/"
        },
        "id": "-oNDmCV4kX5J",
        "outputId": "973f7784-8085-49d5-83c3-5ece7057886e"
      },
      "execution_count": 14,
      "outputs": [
        {
          "output_type": "stream",
          "name": "stdout",
          "text": [
            "Collecting absl-py==0.15.0 (from -r /content/drive/MyDrive/pionono_segmentation-main/requirements.txt (line 1))\n",
            "  Using cached absl_py-0.15.0-py3-none-any.whl (132 kB)\n",
            "Collecting aiohttp==3.8.1 (from -r /content/drive/MyDrive/pionono_segmentation-main/requirements.txt (line 2))\n",
            "  Using cached aiohttp-3.8.1-cp310-cp310-manylinux_2_5_x86_64.manylinux1_x86_64.manylinux_2_12_x86_64.manylinux2010_x86_64.whl (1.2 MB)\n",
            "Collecting aiosignal==1.2.0 (from -r /content/drive/MyDrive/pionono_segmentation-main/requirements.txt (line 3))\n",
            "  Using cached aiosignal-1.2.0-py3-none-any.whl (8.2 kB)\n",
            "Collecting albumentations==1.0.3 (from -r /content/drive/MyDrive/pionono_segmentation-main/requirements.txt (line 4))\n",
            "  Using cached albumentations-1.0.3-py3-none-any.whl (98 kB)\n",
            "Collecting alembic==1.7.5 (from -r /content/drive/MyDrive/pionono_segmentation-main/requirements.txt (line 5))\n",
            "  Using cached alembic-1.7.5-py3-none-any.whl (209 kB)\n",
            "Collecting async-timeout==4.0.1 (from -r /content/drive/MyDrive/pionono_segmentation-main/requirements.txt (line 6))\n",
            "  Using cached async_timeout-4.0.1-py3-none-any.whl (5.7 kB)\n",
            "Collecting attrs==21.4.0 (from -r /content/drive/MyDrive/pionono_segmentation-main/requirements.txt (line 7))\n",
            "  Using cached attrs-21.4.0-py2.py3-none-any.whl (60 kB)\n",
            "Requirement already satisfied: blinker==1.4 in /usr/lib/python3/dist-packages (from -r /content/drive/MyDrive/pionono_segmentation-main/requirements.txt (line 8)) (1.4)\n",
            "Collecting Bottleneck==1.3.7 (from -r /content/drive/MyDrive/pionono_segmentation-main/requirements.txt (line 9))\n",
            "  Using cached Bottleneck-1.3.7-cp310-cp310-manylinux_2_5_x86_64.manylinux1_x86_64.manylinux_2_17_x86_64.manylinux2014_x86_64.whl (354 kB)\n",
            "Collecting brotlipy==0.7.0 (from -r /content/drive/MyDrive/pionono_segmentation-main/requirements.txt (line 10))\n",
            "  Using cached brotlipy-0.7.0-cp35-abi3-manylinux2010_x86_64.whl (1.1 MB)\n",
            "Collecting cachetools==4.2.2 (from -r /content/drive/MyDrive/pionono_segmentation-main/requirements.txt (line 11))\n",
            "  Using cached cachetools-4.2.2-py3-none-any.whl (11 kB)\n",
            "Collecting certifi==2021.10.8 (from -r /content/drive/MyDrive/pionono_segmentation-main/requirements.txt (line 12))\n",
            "  Using cached certifi-2021.10.8-py2.py3-none-any.whl (149 kB)\n",
            "Collecting cffi==1.15.0 (from -r /content/drive/MyDrive/pionono_segmentation-main/requirements.txt (line 13))\n",
            "  Using cached cffi-1.15.0-cp310-cp310-manylinux_2_12_x86_64.manylinux2010_x86_64.whl (446 kB)\n",
            "Collecting charset-normalizer==2.0.4 (from -r /content/drive/MyDrive/pionono_segmentation-main/requirements.txt (line 14))\n",
            "  Using cached charset_normalizer-2.0.4-py3-none-any.whl (36 kB)\n",
            "Collecting click==8.0.3 (from -r /content/drive/MyDrive/pionono_segmentation-main/requirements.txt (line 15))\n",
            "  Using cached click-8.0.3-py3-none-any.whl (97 kB)\n",
            "Collecting cloudpickle==2.0.0 (from -r /content/drive/MyDrive/pionono_segmentation-main/requirements.txt (line 16))\n",
            "  Using cached cloudpickle-2.0.0-py3-none-any.whl (25 kB)\n",
            "Collecting cryptography==3.4.8 (from -r /content/drive/MyDrive/pionono_segmentation-main/requirements.txt (line 17))\n",
            "  Using cached cryptography-3.4.8-cp36-abi3-manylinux_2_24_x86_64.whl (3.0 MB)\n",
            "Collecting cycler==0.11.0 (from -r /content/drive/MyDrive/pionono_segmentation-main/requirements.txt (line 18))\n",
            "  Using cached cycler-0.11.0-py3-none-any.whl (6.4 kB)\n",
            "Collecting dask==2021.10.0 (from -r /content/drive/MyDrive/pionono_segmentation-main/requirements.txt (line 19))\n",
            "  Using cached dask-2021.10.0-py3-none-any.whl (1.0 MB)\n",
            "Collecting databricks-cli==0.16.2 (from -r /content/drive/MyDrive/pionono_segmentation-main/requirements.txt (line 20))\n",
            "  Using cached databricks-cli-0.16.2.tar.gz (58 kB)\n",
            "  Preparing metadata (setup.py) ... \u001b[?25l\u001b[?25hdone\n",
            "Collecting docker==5.0.3 (from -r /content/drive/MyDrive/pionono_segmentation-main/requirements.txt (line 21))\n",
            "  Using cached docker-5.0.3-py2.py3-none-any.whl (146 kB)\n",
            "Collecting efficientnet-pytorch==0.6.3 (from -r /content/drive/MyDrive/pionono_segmentation-main/requirements.txt (line 22))\n",
            "  Using cached efficientnet_pytorch-0.6.3.tar.gz (16 kB)\n",
            "  Preparing metadata (setup.py) ... \u001b[?25l\u001b[?25hdone\n",
            "Collecting entrypoints==0.3 (from -r /content/drive/MyDrive/pionono_segmentation-main/requirements.txt (line 23))\n",
            "  Using cached entrypoints-0.3-py2.py3-none-any.whl (11 kB)\n",
            "Collecting Flask==2.0.2 (from -r /content/drive/MyDrive/pionono_segmentation-main/requirements.txt (line 24))\n",
            "  Using cached Flask-2.0.2-py3-none-any.whl (95 kB)\n",
            "Collecting fonttools==4.25.0 (from -r /content/drive/MyDrive/pionono_segmentation-main/requirements.txt (line 25))\n",
            "  Using cached fonttools-4.25.0-py3-none-any.whl (867 kB)\n",
            "Collecting frozenlist==1.2.0 (from -r /content/drive/MyDrive/pionono_segmentation-main/requirements.txt (line 26))\n",
            "  Using cached frozenlist-1.2.0-cp310-cp310-manylinux_2_5_x86_64.manylinux1_x86_64.manylinux_2_12_x86_64.manylinux2010_x86_64.whl (205 kB)\n",
            "Collecting fsspec==2022.1.0 (from -r /content/drive/MyDrive/pionono_segmentation-main/requirements.txt (line 27))\n",
            "  Using cached fsspec-2022.1.0-py3-none-any.whl (133 kB)\n",
            "Collecting gitdb==4.0.9 (from -r /content/drive/MyDrive/pionono_segmentation-main/requirements.txt (line 28))\n",
            "  Using cached gitdb-4.0.9-py3-none-any.whl (63 kB)\n",
            "Collecting GitPython==3.1.26 (from -r /content/drive/MyDrive/pionono_segmentation-main/requirements.txt (line 29))\n",
            "  Using cached GitPython-3.1.26-py3-none-any.whl (180 kB)\n",
            "Collecting google-auth==1.33.0 (from -r /content/drive/MyDrive/pionono_segmentation-main/requirements.txt (line 30))\n",
            "  Using cached google_auth-1.33.0-py2.py3-none-any.whl (151 kB)\n",
            "Collecting google-auth-oauthlib==0.4.1 (from -r /content/drive/MyDrive/pionono_segmentation-main/requirements.txt (line 31))\n",
            "  Using cached google_auth_oauthlib-0.4.1-py2.py3-none-any.whl (18 kB)\n",
            "Collecting greenlet==1.1.2 (from -r /content/drive/MyDrive/pionono_segmentation-main/requirements.txt (line 32))\n",
            "  Using cached greenlet-1.1.2-cp310-cp310-manylinux_2_17_x86_64.manylinux2014_x86_64.whl (155 kB)\n",
            "Collecting grpcio==1.42.0 (from -r /content/drive/MyDrive/pionono_segmentation-main/requirements.txt (line 33))\n",
            "  Using cached grpcio-1.42.0-cp310-cp310-manylinux_2_17_x86_64.manylinux2014_x86_64.whl (4.0 MB)\n",
            "Collecting gunicorn==20.1.0 (from -r /content/drive/MyDrive/pionono_segmentation-main/requirements.txt (line 34))\n",
            "  Using cached gunicorn-20.1.0-py3-none-any.whl (79 kB)\n",
            "Collecting idna==3.3 (from -r /content/drive/MyDrive/pionono_segmentation-main/requirements.txt (line 35))\n",
            "  Using cached idna-3.3-py3-none-any.whl (61 kB)\n",
            "Collecting imagecodecs==2021.8.26 (from -r /content/drive/MyDrive/pionono_segmentation-main/requirements.txt (line 36))\n",
            "  Using cached imagecodecs-2021.8.26-cp310-cp310-manylinux_2_17_x86_64.manylinux2014_x86_64.whl (31.0 MB)\n",
            "Collecting imageio==2.13.1 (from -r /content/drive/MyDrive/pionono_segmentation-main/requirements.txt (line 37))\n",
            "  Using cached imageio-2.13.1-py3-none-any.whl (3.3 MB)\n",
            "Requirement already satisfied: imgaug==0.4.0 in /usr/local/lib/python3.10/dist-packages (from -r /content/drive/MyDrive/pionono_segmentation-main/requirements.txt (line 38)) (0.4.0)\n",
            "Collecting importlib-metadata==4.8.2 (from -r /content/drive/MyDrive/pionono_segmentation-main/requirements.txt (line 39))\n",
            "  Using cached importlib_metadata-4.8.2-py3-none-any.whl (17 kB)\n",
            "Collecting itsdangerous==2.0.1 (from -r /content/drive/MyDrive/pionono_segmentation-main/requirements.txt (line 40))\n",
            "  Using cached itsdangerous-2.0.1-py3-none-any.whl (18 kB)\n",
            "Collecting Jinja2==3.0.3 (from -r /content/drive/MyDrive/pionono_segmentation-main/requirements.txt (line 41))\n",
            "  Using cached Jinja2-3.0.3-py3-none-any.whl (133 kB)\n",
            "Collecting joblib==1.1.0 (from -r /content/drive/MyDrive/pionono_segmentation-main/requirements.txt (line 42))\n",
            "  Using cached joblib-1.1.0-py2.py3-none-any.whl (306 kB)\n",
            "Collecting kiwisolver==1.3.1 (from -r /content/drive/MyDrive/pionono_segmentation-main/requirements.txt (line 43))\n",
            "  Using cached kiwisolver-1.3.1.tar.gz (53 kB)\n",
            "  Preparing metadata (setup.py) ... \u001b[?25l\u001b[?25hdone\n",
            "Collecting locket==0.2.1 (from -r /content/drive/MyDrive/pionono_segmentation-main/requirements.txt (line 44))\n",
            "  Using cached locket-0.2.1-py2.py3-none-any.whl (4.1 kB)\n",
            "Collecting Mako==1.1.6 (from -r /content/drive/MyDrive/pionono_segmentation-main/requirements.txt (line 45))\n",
            "  Using cached Mako-1.1.6-py2.py3-none-any.whl (75 kB)\n",
            "Collecting Markdown==3.3.4 (from -r /content/drive/MyDrive/pionono_segmentation-main/requirements.txt (line 46))\n",
            "  Using cached Markdown-3.3.4-py3-none-any.whl (97 kB)\n",
            "Collecting MarkupSafe==2.0.1 (from -r /content/drive/MyDrive/pionono_segmentation-main/requirements.txt (line 47))\n",
            "  Using cached MarkupSafe-2.0.1-cp310-cp310-manylinux_2_5_x86_64.manylinux1_x86_64.manylinux_2_12_x86_64.manylinux2010_x86_64.whl (30 kB)\n",
            "Collecting matplotlib==3.4.3 (from -r /content/drive/MyDrive/pionono_segmentation-main/requirements.txt (line 48))\n",
            "  Using cached matplotlib-3.4.3.tar.gz (37.9 MB)\n",
            "  Preparing metadata (setup.py) ... \u001b[?25l\u001b[?25hdone\n",
            "Collecting mkl-random==1.2.2 (from -r /content/drive/MyDrive/pionono_segmentation-main/requirements.txt (line 49))\n",
            "  Using cached mkl_random-1.2.2-78-cp310-cp310-manylinux2014_x86_64.whl (363 kB)\n",
            "Collecting mkl-service==2.4.0 (from -r /content/drive/MyDrive/pionono_segmentation-main/requirements.txt (line 50))\n",
            "  Using cached mkl_service-2.4.0-35-cp310-cp310-manylinux2014_x86_64.whl (57 kB)\n",
            "Collecting mlflow==1.23.1 (from -r /content/drive/MyDrive/pionono_segmentation-main/requirements.txt (line 51))\n",
            "  Using cached mlflow-1.23.1-py3-none-any.whl (15.6 MB)\n",
            "Collecting multidict==5.2.0 (from -r /content/drive/MyDrive/pionono_segmentation-main/requirements.txt (line 52))\n",
            "  Using cached multidict-5.2.0-cp310-cp310-manylinux_2_5_x86_64.manylinux1_x86_64.manylinux_2_12_x86_64.manylinux2010_x86_64.whl (175 kB)\n",
            "Collecting munch==2.5.0 (from -r /content/drive/MyDrive/pionono_segmentation-main/requirements.txt (line 53))\n",
            "  Using cached munch-2.5.0-py2.py3-none-any.whl (10 kB)\n",
            "Collecting munkres==1.1.4 (from -r /content/drive/MyDrive/pionono_segmentation-main/requirements.txt (line 54))\n",
            "  Using cached munkres-1.1.4-py2.py3-none-any.whl (7.0 kB)\n",
            "Collecting networkx==2.6.3 (from -r /content/drive/MyDrive/pionono_segmentation-main/requirements.txt (line 55))\n",
            "  Using cached networkx-2.6.3-py3-none-any.whl (1.9 MB)\n",
            "Collecting numexpr==2.8.1 (from -r /content/drive/MyDrive/pionono_segmentation-main/requirements.txt (line 56))\n",
            "  Using cached numexpr-2.8.1-cp310-cp310-manylinux_2_17_x86_64.manylinux2014_x86_64.whl (380 kB)\n",
            "Collecting numpy==1.21.2 (from -r /content/drive/MyDrive/pionono_segmentation-main/requirements.txt (line 57))\n",
            "  Using cached numpy-1.21.2-cp310-cp310-manylinux_2_17_x86_64.manylinux2014_x86_64.whl (15.9 MB)\n",
            "Collecting oauthlib==3.1.1 (from -r /content/drive/MyDrive/pionono_segmentation-main/requirements.txt (line 58))\n",
            "  Using cached oauthlib-3.1.1-py2.py3-none-any.whl (146 kB)\n",
            "Collecting olefile==0.46 (from -r /content/drive/MyDrive/pionono_segmentation-main/requirements.txt (line 59))\n",
            "  Using cached olefile-0.46.zip (112 kB)\n",
            "  Preparing metadata (setup.py) ... \u001b[?25l\u001b[?25hdone\n",
            "Collecting packaging==21.3 (from -r /content/drive/MyDrive/pionono_segmentation-main/requirements.txt (line 60))\n",
            "  Using cached packaging-21.3-py3-none-any.whl (40 kB)\n",
            "Collecting pandas==1.3.4 (from -r /content/drive/MyDrive/pionono_segmentation-main/requirements.txt (line 61))\n",
            "  Using cached pandas-1.3.4-cp310-cp310-manylinux_2_17_x86_64.manylinux2014_x86_64.whl (11.5 MB)\n",
            "Collecting partd==1.2.0 (from -r /content/drive/MyDrive/pionono_segmentation-main/requirements.txt (line 62))\n",
            "  Using cached partd-1.2.0-py3-none-any.whl (19 kB)\n",
            "Collecting Pillow==8.4.0 (from -r /content/drive/MyDrive/pionono_segmentation-main/requirements.txt (line 63))\n",
            "  Using cached Pillow-8.4.0-cp310-cp310-manylinux_2_17_x86_64.manylinux2014_x86_64.whl (3.1 MB)\n",
            "Collecting pip==21.2.4 (from -r /content/drive/MyDrive/pionono_segmentation-main/requirements.txt (line 64))\n",
            "  Using cached pip-21.2.4-py3-none-any.whl (1.6 MB)\n",
            "Collecting pretrainedmodels==0.7.4 (from -r /content/drive/MyDrive/pionono_segmentation-main/requirements.txt (line 65))\n",
            "  Using cached pretrainedmodels-0.7.4.tar.gz (58 kB)\n",
            "  Preparing metadata (setup.py) ... \u001b[?25l\u001b[?25hdone\n",
            "Collecting prometheus-client==0.13.0 (from -r /content/drive/MyDrive/pionono_segmentation-main/requirements.txt (line 66))\n",
            "  Using cached prometheus_client-0.13.0-py3-none-any.whl (56 kB)\n",
            "Collecting prometheus-flask-exporter==0.18.7 (from -r /content/drive/MyDrive/pionono_segmentation-main/requirements.txt (line 67))\n",
            "  Using cached prometheus_flask_exporter-0.18.7-py3-none-any.whl (17 kB)\n",
            "Collecting protobuf==3.19.1 (from -r /content/drive/MyDrive/pionono_segmentation-main/requirements.txt (line 68))\n",
            "  Using cached protobuf-3.19.1-cp310-cp310-manylinux_2_17_x86_64.manylinux2014_x86_64.whl (1.1 MB)\n",
            "Collecting pyasn1==0.4.8 (from -r /content/drive/MyDrive/pionono_segmentation-main/requirements.txt (line 69))\n",
            "  Using cached pyasn1-0.4.8-py2.py3-none-any.whl (77 kB)\n",
            "Collecting pyasn1-modules==0.2.8 (from -r /content/drive/MyDrive/pionono_segmentation-main/requirements.txt (line 70))\n",
            "  Using cached pyasn1_modules-0.2.8-py2.py3-none-any.whl (155 kB)\n",
            "Collecting pycparser==2.21 (from -r /content/drive/MyDrive/pionono_segmentation-main/requirements.txt (line 71))\n",
            "  Using cached pycparser-2.21-py2.py3-none-any.whl (118 kB)\n",
            "Collecting PyJWT==2.1.0 (from -r /content/drive/MyDrive/pionono_segmentation-main/requirements.txt (line 72))\n",
            "  Using cached PyJWT-2.1.0-py3-none-any.whl (16 kB)\n",
            "Collecting pyOpenSSL==21.0.0 (from -r /content/drive/MyDrive/pionono_segmentation-main/requirements.txt (line 73))\n",
            "  Using cached pyOpenSSL-21.0.0-py2.py3-none-any.whl (55 kB)\n",
            "Collecting pyparsing==3.0.4 (from -r /content/drive/MyDrive/pionono_segmentation-main/requirements.txt (line 74))\n",
            "  Using cached pyparsing-3.0.4-py3-none-any.whl (96 kB)\n",
            "Collecting PyQt5==5.12.3 (from -r /content/drive/MyDrive/pionono_segmentation-main/requirements.txt (line 75))\n",
            "  Using cached PyQt5-5.12.3-5.12.10-cp35.cp36.cp37.cp38.cp39-abi3-manylinux1_x86_64.whl (62.4 MB)\n",
            "Collecting PyQtChart==5.12 (from -r /content/drive/MyDrive/pionono_segmentation-main/requirements.txt (line 76))\n",
            "  Using cached PyQtChart-5.12.0-5.12.10-cp35.cp36.cp37.cp38.cp39-abi3-manylinux1_x86_64.whl (1.1 MB)\n",
            "Collecting PyQtWebEngine==5.12.1 (from -r /content/drive/MyDrive/pionono_segmentation-main/requirements.txt (line 77))\n",
            "  Using cached PyQtWebEngine-5.12.1-5.12.10-cp35.cp36.cp37.cp38.cp39-abi3-manylinux1_x86_64.whl (60.1 MB)\n",
            "Requirement already satisfied: PySocks==1.7.1 in /usr/local/lib/python3.10/dist-packages (from -r /content/drive/MyDrive/pionono_segmentation-main/requirements.txt (line 78)) (1.7.1)\n",
            "Requirement already satisfied: python-dateutil==2.8.2 in /usr/local/lib/python3.10/dist-packages (from -r /content/drive/MyDrive/pionono_segmentation-main/requirements.txt (line 79)) (2.8.2)\n",
            "Collecting pytz==2021.3 (from -r /content/drive/MyDrive/pionono_segmentation-main/requirements.txt (line 80))\n",
            "  Using cached pytz-2021.3-py2.py3-none-any.whl (503 kB)\n",
            "Collecting PyWavelets==1.1.1 (from -r /content/drive/MyDrive/pionono_segmentation-main/requirements.txt (line 81))\n",
            "  Using cached PyWavelets-1.1.1.tar.gz (4.6 MB)\n",
            "  Preparing metadata (setup.py) ... \u001b[?25l\u001b[?25hdone\n",
            "Collecting PyYAML==6.0 (from -r /content/drive/MyDrive/pionono_segmentation-main/requirements.txt (line 82))\n",
            "  Using cached PyYAML-6.0-cp310-cp310-manylinux_2_5_x86_64.manylinux1_x86_64.manylinux_2_12_x86_64.manylinux2010_x86_64.whl (682 kB)\n",
            "Collecting querystring-parser==1.2.4 (from -r /content/drive/MyDrive/pionono_segmentation-main/requirements.txt (line 83))\n",
            "  Using cached querystring_parser-1.2.4-py2.py3-none-any.whl (7.9 kB)\n",
            "Collecting requests==2.27.1 (from -r /content/drive/MyDrive/pionono_segmentation-main/requirements.txt (line 84))\n",
            "  Using cached requests-2.27.1-py2.py3-none-any.whl (63 kB)\n",
            "Requirement already satisfied: six==1.16.0 in /usr/local/lib/python3.10/dist-packages (from -r /content/drive/MyDrive/pionono_segmentation-main/requirements.txt (line 85)) (1.16.0)\n",
            "Collecting smmap==5.0.0 (from -r /content/drive/MyDrive/pionono_segmentation-main/requirements.txt (line 86))\n",
            "  Using cached smmap-5.0.0-py3-none-any.whl (24 kB)\n",
            "Collecting SQLAlchemy==1.4.31 (from -r /content/drive/MyDrive/pionono_segmentation-main/requirements.txt (line 87))\n",
            "  Using cached SQLAlchemy-1.4.31-cp310-cp310-manylinux_2_5_x86_64.manylinux1_x86_64.manylinux_2_17_x86_64.manylinux2014_x86_64.whl (1.6 MB)\n",
            "Collecting sqlparse==0.4.2 (from -r /content/drive/MyDrive/pionono_segmentation-main/requirements.txt (line 88))\n",
            "  Using cached sqlparse-0.4.2-py3-none-any.whl (42 kB)\n",
            "Collecting tabulate==0.8.9 (from -r /content/drive/MyDrive/pionono_segmentation-main/requirements.txt (line 89))\n",
            "  Using cached tabulate-0.8.9-py3-none-any.whl (25 kB)\n",
            "Collecting tensorboard==2.6.0 (from -r /content/drive/MyDrive/pionono_segmentation-main/requirements.txt (line 90))\n",
            "  Using cached tensorboard-2.6.0-py3-none-any.whl (5.6 MB)\n",
            "Collecting tensorboard-data-server==0.6.0 (from -r /content/drive/MyDrive/pionono_segmentation-main/requirements.txt (line 91))\n",
            "  Using cached tensorboard_data_server-0.6.0-py3-none-manylinux2010_x86_64.whl (3.9 MB)\n",
            "Collecting tensorboardX==2.2 (from -r /content/drive/MyDrive/pionono_segmentation-main/requirements.txt (line 92))\n",
            "  Downloading tensorboardX-2.2-py2.py3-none-any.whl (120 kB)\n",
            "\u001b[2K     \u001b[90m━━━━━━━━━━━━━━━━━━━━━━━━━━━━━━━━━━━━━━━━\u001b[0m \u001b[32m120.5/120.5 kB\u001b[0m \u001b[31m3.4 MB/s\u001b[0m eta \u001b[36m0:00:00\u001b[0m\n",
            "\u001b[?25hCollecting threadpoolctl==2.2.0 (from -r /content/drive/MyDrive/pionono_segmentation-main/requirements.txt (line 93))\n",
            "  Downloading threadpoolctl-2.2.0-py3-none-any.whl (12 kB)\n",
            "Collecting tifffile==2021.7.2 (from -r /content/drive/MyDrive/pionono_segmentation-main/requirements.txt (line 94))\n",
            "  Downloading tifffile-2021.7.2-py3-none-any.whl (169 kB)\n",
            "\u001b[2K     \u001b[90m━━━━━━━━━━━━━━━━━━━━━━━━━━━━━━━━━━━━━━━━\u001b[0m \u001b[32m169.9/169.9 kB\u001b[0m \u001b[31m16.5 MB/s\u001b[0m eta \u001b[36m0:00:00\u001b[0m\n",
            "\u001b[?25hCollecting timm==0.4.12 (from -r /content/drive/MyDrive/pionono_segmentation-main/requirements.txt (line 95))\n",
            "  Downloading timm-0.4.12-py3-none-any.whl (376 kB)\n",
            "\u001b[2K     \u001b[90m━━━━━━━━━━━━━━━━━━━━━━━━━━━━━━━━━━━━━━━━\u001b[0m \u001b[32m377.0/377.0 kB\u001b[0m \u001b[31m37.6 MB/s\u001b[0m eta \u001b[36m0:00:00\u001b[0m\n",
            "\u001b[?25hCollecting toolz==0.11.2 (from -r /content/drive/MyDrive/pionono_segmentation-main/requirements.txt (line 96))\n",
            "  Downloading toolz-0.11.2-py3-none-any.whl (55 kB)\n",
            "\u001b[2K     \u001b[90m━━━━━━━━━━━━━━━━━━━━━━━━━━━━━━━━━━━━━━━━\u001b[0m \u001b[32m55.8/55.8 kB\u001b[0m \u001b[31m7.3 MB/s\u001b[0m eta \u001b[36m0:00:00\u001b[0m\n",
            "\u001b[?25h\u001b[31mERROR: Could not find a version that satisfies the requirement torch==1.10.1 (from versions: 1.11.0, 1.12.0, 1.12.1, 1.13.0, 1.13.1, 2.0.0, 2.0.1, 2.1.0, 2.1.1, 2.1.2, 2.2.0, 2.2.1, 2.2.2, 2.3.0)\u001b[0m\u001b[31m\n",
            "\u001b[0m\u001b[31mERROR: No matching distribution found for torch==1.10.1\u001b[0m\u001b[31m\n",
            "\u001b[0m"
          ]
        }
      ]
    },
    {
      "cell_type": "code",
      "source": [
        "!pip install cytoolz==0.11.0\n",
        "!pip install mkl-fft==1.3.1\n",
        "!pip install PyQt5_sip==4.19.18\n",
        "!pip install scikit-image==0.18.3\n",
        "!pip install scikit-learn==1.0.1\n",
        "!pip install Shapely==1.7.1\n",
        "!pip install setuptools==58.0.4\n",
        "!pip install segmentation-models-pytorch==0.2.1\n",
        "!pip install scipy==1.7.3\n",
        "!pip install rsa==4.7.2\n",
        "!pip install requests-oauthlib==1.3.0\n",
        "!pip install SimpleITK==2.1.1\n",
        "!pip install tensorboard-plugin-wit==1.6.0"
      ],
      "metadata": {
        "id": "8iH283yulxae"
      },
      "execution_count": null,
      "outputs": []
    }
  ]
}