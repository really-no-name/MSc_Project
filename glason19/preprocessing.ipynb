{
  "nbformat": 4,
  "nbformat_minor": 0,
  "metadata": {
    "colab": {
      "provenance": [],
      "machine_shape": "hm"
    },
    "kernelspec": {
      "name": "python3",
      "display_name": "Python 3"
    },
    "language_info": {
      "name": "python"
    }
  },
  "cells": [
    {
      "cell_type": "markdown",
      "source": [
        "# 链接Google drive"
      ],
      "metadata": {
        "id": "O_nHBaG2Ibmt"
      }
    },
    {
      "cell_type": "code",
      "execution_count": 1,
      "metadata": {
        "colab": {
          "base_uri": "https://localhost:8080/"
        },
        "id": "_tlg_5JTHaNm",
        "outputId": "c4d6201c-779b-43bd-f818-a947dfcff5e0"
      },
      "outputs": [
        {
          "output_type": "stream",
          "name": "stdout",
          "text": [
            "Drive already mounted at /content/drive; to attempt to forcibly remount, call drive.mount(\"/content/drive\", force_remount=True).\n"
          ]
        }
      ],
      "source": [
        "from google.colab import drive\n",
        "drive.mount('/content/drive')"
      ]
    },
    {
      "cell_type": "code",
      "source": [
        "!pip install numpy\n",
        "!pip install opencv-python\n",
        "!pip install SimpleITK\n",
        "# !pip install concurrent"
      ],
      "metadata": {
        "colab": {
          "base_uri": "https://localhost:8080/"
        },
        "collapsed": true,
        "id": "Xk9129DBqGOe",
        "outputId": "c2d2fb9f-3fef-4743-b2ab-1c041f095470"
      },
      "execution_count": 2,
      "outputs": [
        {
          "output_type": "stream",
          "name": "stdout",
          "text": [
            "Requirement already satisfied: numpy in /usr/local/lib/python3.10/dist-packages (1.25.2)\n",
            "Requirement already satisfied: opencv-python in /usr/local/lib/python3.10/dist-packages (4.8.0.76)\n",
            "Requirement already satisfied: numpy>=1.21.2 in /usr/local/lib/python3.10/dist-packages (from opencv-python) (1.25.2)\n",
            "Requirement already satisfied: SimpleITK in /usr/local/lib/python3.10/dist-packages (2.3.1)\n"
          ]
        }
      ]
    },
    {
      "cell_type": "code",
      "source": [
        "# 注释\n",
        "# 更改工作目录到包含你的Python脚本的文件夹\n",
        "import os\n",
        "os.chdir('/content/drive/Othercomputers/Mac/Google_Drive/pionono_segmentation-main/src/preprocessing_tools')"
      ],
      "metadata": {
        "id": "ztEh4RNfXh-R"
      },
      "execution_count": 3,
      "outputs": []
    },
    {
      "cell_type": "code",
      "source": [
        "!PYTHONPATH=$PYTHONPATH:/content/drive/Othercomputers/Mac/Google_Drive/pionono_segmentation-main/src/preprocessing_tools"
      ],
      "metadata": {
        "id": "-kPWMd_aI_8s"
      },
      "execution_count": 3,
      "outputs": []
    },
    {
      "cell_type": "code",
      "source": [
        "# 预处理前列腺TMA数据集Gleason 2019\n",
        "\n",
        "import argparse\n",
        "import numpy as np\n",
        "# from preprocessing_tools.preprocessing_utils import resize_all_images, create_voting_masks, \\\n",
        "#     create_crossvalidation_splits, convert_to_rgb, calculate_dataset_statistics, create_gold_label_proportion_folders\n",
        "from preprocessing_utils import resize_all_images, create_voting_masks, \\\n",
        "    create_crossvalidation_splits, convert_to_rgb, calculate_dataset_statistics, create_gold_label_proportion_folders\n",
        "import sys"
      ],
      "metadata": {
        "id": "BIiFgcE4I4La"
      },
      "execution_count": 4,
      "outputs": []
    },
    {
      "cell_type": "code",
      "source": [
        "# 定义颜色映射：\n",
        "CLASS_COLORS_BGR = [[128, 255, 96], [32, 224, 255], [0, 104, 255], [0, 0, 255], [255, 255, 255]]\n",
        "\n",
        "# 检查是否在 Jupyter Notebook 或 Google Colab 环境中\n",
        "def in_notebook():\n",
        "    try:\n",
        "        shell = get_ipython().__class__.__name__\n",
        "        if shell == 'ZMQInteractiveShell':\n",
        "            return True   # Jupyter notebook or qtconsole\n",
        "        elif shell == 'Shell':\n",
        "            return True   # Google Colab\n",
        "        else:\n",
        "            return False  # Other type (likely standard Python interpreter)\n",
        "    except NameError:\n",
        "        return False     # Probably standard Python interpreter\n",
        "\n",
        "# 根据环境设置参数\n",
        "if in_notebook():\n",
        "    input_dir = \"/content/drive/Othercomputers/Mac/Google_Drive/dataset/Gleason19/Source/\"\n",
        "    output_dir = \"/content/drive/Othercomputers/Mac/Google_Drive/dataset/Gleason19/resized_dataset_1024/\"\n",
        "else:\n",
        "    parser = argparse.ArgumentParser(description=\"Preprocess prostate TMA dataset Gleason 2019\")\n",
        "    parser.add_argument(\"--input_dir\", \"-i\", type=str,\n",
        "                        default=\"/content/drive/Othercomputers/Mac/Google_Drive/dataset/Gleason19/Source/\",  # 输入路径\n",
        "                        help=\"Input directory of dataset.\")\n",
        "    parser.add_argument(\"--output_dir\", \"-o\", type=str,\n",
        "                        default=\"/content/drive/Othercomputers/Mac/Google_Drive/dataset/Gleason19/resized_dataset_1024/\",  # 输出路径\n",
        "                        help=\"Output directory of resized images.\")\n",
        "    args = parser.parse_args()\n",
        "    input_dir = args.input_dir\n",
        "    output_dir = args.output_dir\n",
        "\n",
        "config = {\n",
        "    'input_dir': input_dir,\n",
        "    'output_dir': output_dir\n",
        "}\n",
        "\n",
        "dataset_specific_names = {'train_img_dir': 'Train_imgs/',\n",
        "                          'test_img_dir': 'Test_imgs/',\n",
        "                          'map_dir': 'Maps/',\n",
        "                          'map_annotator_dirs': ['Maps1_T/', 'Maps2_T/', 'Maps3_T/', 'Maps4_T/', 'Maps5_T/', 'Maps6_T/'],\n",
        "                          'resize_resolution': 1024}  # 添加 resize_resolution XU改\n",
        "\n",
        "config.update(dataset_specific_names)\n",
        "\n",
        "list_gg5 = ['slide001_core145.png', 'slide007_core005.png', 'slide007_core044.png', 'slide003_core068.png',\n",
        "            'slide007_core016.png', 'slide002_core073.png', 'slide002_core144.png', 'slide001_core010.png',\n",
        "            'slide002_core009.png', 'slide005_core092.png', 'slide002_core074.png', 'slide002_core140.png',\n",
        "            'slide002_core143.png', 'slide002_core010.png', 'slide003_core096.png', 'slide007_core043.png']\n",
        "\n",
        "def convert_masks(mask):  # 定义掩码转换函数：\n",
        "    # The initial classes are 0 (background), 1 (normal tissue), 3 (GG3), 4 (GG4), 5 (GG5), 6 (normal tissue)\n",
        "    # We move these classes to: 0 (normal tissue), 1 (GG3), 2 (GG4), 3 (GG5), 4 (background)\n",
        "    ones = np.ones_like(mask)\n",
        "\n",
        "    mask = mask - 2  # gleason classes are moved to 1,2,3\n",
        "    mask = np.where(mask == 255, ones * 0, mask)  # normal tissue to 0\n",
        "    mask = np.where(mask == 4, ones * 0, mask)  # normal tissue to 0\n",
        "    mask = np.where(mask == 254, ones * 4, mask)  # background  to 4\n",
        "    return mask\n",
        "\n",
        "mask_fct = convert_masks\n",
        "\n",
        "# config.update({'resize_resolution': 1024}) # 这行已不再需要，因为上面已经更新了 config"
      ],
      "metadata": {
        "id": "2-b9zN8wLo1d"
      },
      "execution_count": 5,
      "outputs": []
    },
    {
      "cell_type": "code",
      "source": [
        "\n",
        "resize_all_images(config, config['input_dir'], mask_fct, max_workers=256)\n"
      ],
      "metadata": {
        "colab": {
          "base_uri": "https://localhost:8080/"
        },
        "collapsed": true,
        "id": "-9--_7syJ4A_",
        "outputId": "19bed239-4e97-4b0c-b8d0-0d0b7d6636a6"
      },
      "execution_count": 8,
      "outputs": [
        {
          "output_type": "stream",
          "name": "stdout",
          "text": [
            "### Resize ###\n",
            "Processing input: /content/drive/Othercomputers/Mac/Google_Drive/dataset/Gleason19/Source/Train_imgs/ Output: /content/drive/Othercomputers/Mac/Google_Drive/dataset/Gleason19/resized_dataset_1024/Train_imgs/\n",
            "Images found:244\n",
            "### Resize ###\n",
            "Processing input: /content/drive/Othercomputers/Mac/Google_Drive/dataset/Gleason19/Source/Test_imgs/ Output: /content/drive/Othercomputers/Mac/Google_Drive/dataset/Gleason19/resized_dataset_1024/Test_imgs/\n",
            "Images found:87\n",
            "### Resize ###\n",
            "Processing input: /content/drive/Othercomputers/Mac/Google_Drive/dataset/Gleason19/Source/Maps/Maps1_T/ Output: /content/drive/Othercomputers/Mac/Google_Drive/dataset/Gleason19/resized_dataset_1024/Maps/Maps1_T/\n",
            "Images found:244\n",
            "### Resize ###\n",
            "Processing input: /content/drive/Othercomputers/Mac/Google_Drive/dataset/Gleason19/Source/Maps/Maps2_T/ Output: /content/drive/Othercomputers/Mac/Google_Drive/dataset/Gleason19/resized_dataset_1024/Maps/Maps2_T/\n",
            "Images found:141\n",
            "### Resize ###\n",
            "Processing input: /content/drive/Othercomputers/Mac/Google_Drive/dataset/Gleason19/Source/Maps/Maps3_T/ Output: /content/drive/Othercomputers/Mac/Google_Drive/dataset/Gleason19/resized_dataset_1024/Maps/Maps3_T/\n",
            "Images found:242\n",
            "### Resize ###\n",
            "Processing input: /content/drive/Othercomputers/Mac/Google_Drive/dataset/Gleason19/Source/Maps/Maps4_T/ Output: /content/drive/Othercomputers/Mac/Google_Drive/dataset/Gleason19/resized_dataset_1024/Maps/Maps4_T/\n",
            "Images found:244\n",
            "### Resize ###\n",
            "Processing input: /content/drive/Othercomputers/Mac/Google_Drive/dataset/Gleason19/Source/Maps/Maps5_T/ Output: /content/drive/Othercomputers/Mac/Google_Drive/dataset/Gleason19/resized_dataset_1024/Maps/Maps5_T/\n",
            "Images found:246\n",
            "### Resize ###\n",
            "Processing input: /content/drive/Othercomputers/Mac/Google_Drive/dataset/Gleason19/Source/Maps/Maps6_T/ Output: /content/drive/Othercomputers/Mac/Google_Drive/dataset/Gleason19/resized_dataset_1024/Maps/Maps6_T/\n",
            "Images found:65\n"
          ]
        }
      ]
    },
    {
      "cell_type": "code",
      "source": [
        "# -----------------\n",
        "# create_voting_masks(config, 'majority', dir_name='MV/')\n",
        "create_voting_masks(config, 'majority', dir_name='MV/', max_workers=1024)"
      ],
      "metadata": {
        "colab": {
          "base_uri": "https://localhost:8080/"
        },
        "collapsed": true,
        "id": "An0SOcLlJ76A",
        "outputId": "cf6a56ff-4e85-4137-e25e-28aff737d807"
      },
      "execution_count": 8,
      "outputs": [
        {
          "output_type": "stream",
          "name": "stdout",
          "text": [
            "### Create Voting Maps ###\n",
            "Mode: majority\n",
            "Total images with voting: 245\n",
            "--------- Dataset Statistic of majority\n",
            "GG5 image list: \n",
            "Overall classes per pixel: [1311, 1599, 3747, 0, 745983]\n",
            "Overall classes per image: [4, 6, 10, 0, 245]\n",
            "Class_weights: [114.81922197  94.13883677  40.17293835          inf   0.20178476]\n",
            "---------\n"
          ]
        },
        {
          "output_type": "stream",
          "name": "stderr",
          "text": [
            "/content/drive/Othercomputers/Mac/Google_Drive/pionono_segmentation-main/src/preprocessing_tools/preprocessing_utils.py:479: RuntimeWarning: divide by zero encountered in divide\n",
            "  class_weights = n_all_pixels / (len(count_pixels) * np.array(count_pixels))\n"
          ]
        }
      ]
    },
    {
      "cell_type": "code",
      "source": [
        "\n",
        "# create_voting_masks(config, 'staple', dir_name='STAPLE/')\n",
        "create_voting_masks(config, 'staple', dir_name='STAPLE/', max_workers=1024)"
      ],
      "metadata": {
        "colab": {
          "base_uri": "https://localhost:8080/"
        },
        "collapsed": true,
        "id": "86uv-_U5J9md",
        "outputId": "42227357-cdbc-4ce3-f2bb-44aed3aa93d4"
      },
      "execution_count": 10,
      "outputs": [
        {
          "output_type": "stream",
          "name": "stdout",
          "text": [
            "### Create Voting Maps ###\n",
            "Mode: staple\n",
            "Total images with voting: 245\n",
            "--------- Dataset Statistic of staple\n",
            "GG5 image list: \n",
            "- 'slide002_core009.png'\n",
            "- 'slide002_core140.png'\n",
            "- 'slide007_core044.png'\n",
            "- 'slide007_core043.png'\n",
            "- 'slide005_core092.png'\n",
            "- 'slide002_core073.png'\n",
            "- 'slide007_core016.png'\n",
            "- 'slide003_core068.png'\n",
            "- 'slide002_core143.png'\n",
            "- 'slide002_core144.png'\n",
            "Overall classes per pixel: [18192657, 40266622, 59161440, 982849, 114250960]\n",
            "Overall classes per image: [99, 124, 158, 10, 245]\n",
            "Class_weights: [ 2.55987378  1.15656351  0.78718344 47.3835814   0.40761938]\n",
            "---------\n"
          ]
        }
      ]
    },
    {
      "cell_type": "code",
      "source": [
        "\n",
        "# create_crossvalidation_splits(config, config['output_dir'] + config['train_img_dir'], list_gg5)\n",
        "create_crossvalidation_splits(config, config['output_dir'] + config['train_img_dir'],\n",
        "                              list_gg5, max_workers=512)"
      ],
      "metadata": {
        "colab": {
          "base_uri": "https://localhost:8080/"
        },
        "id": "e0zXMuURKA_p",
        "outputId": "127cc690-92f8-42c4-e893-321a4b247232"
      },
      "execution_count": 15,
      "outputs": [
        {
          "output_type": "stream",
          "name": "stdout",
          "text": [
            "### Create Cross Validation ###\n",
            "No of initial images: 244\n",
            "---------\n",
            "---------\n",
            "---------\n",
            "---------\n",
            "---------\n",
            "---------\n",
            "---------\n",
            "---------\n"
          ]
        }
      ]
    },
    {
      "cell_type": "code",
      "source": [
        "\n",
        "# convert_to_rgb(config, ['Maps1_T/', 'Maps2_T/', 'Maps3_T/', 'Maps4_T/',\n",
        "#                         'Maps5_T/', 'Maps6_T/', 'STAPLE/', 'MV/'])\n",
        "convert_to_rgb(config, ['Maps1_T/', 'Maps2_T/', 'Maps3_T/', 'Maps4_T/',\n",
        "                        'Maps5_T/', 'Maps6_T/', 'STAPLE/', 'MV/'], max_workers=512)"
      ],
      "metadata": {
        "colab": {
          "base_uri": "https://localhost:8080/"
        },
        "id": "uF_uFN_2KCxs",
        "outputId": "c667d9fd-b2b1-4a6b-85aa-5fae0f53baa5"
      },
      "execution_count": 12,
      "outputs": [
        {
          "output_type": "stream",
          "name": "stdout",
          "text": [
            "### Convert Maps to RGB images ###\n"
          ]
        }
      ]
    },
    {
      "cell_type": "code",
      "source": [
        "\n",
        "calculate_dataset_statistics(config['output_dir'] + config['map_dir'] + 'STAPLE/', 'total')\n",
        "# ----------------------------------------\n"
      ],
      "metadata": {
        "colab": {
          "base_uri": "https://localhost:8080/"
        },
        "id": "CyE-EupkKFDA",
        "outputId": "8d582c52-da3d-4d35-bba5-acd56c497ce0"
      },
      "execution_count": 13,
      "outputs": [
        {
          "output_type": "stream",
          "name": "stdout",
          "text": [
            "--------- Dataset Statistic of total\n",
            "GG5 image list: \n",
            "- 'slide002_core009.png'\n",
            "- 'slide002_core140.png'\n",
            "- 'slide007_core044.png'\n",
            "- 'slide007_core043.png'\n",
            "- 'slide005_core092.png'\n",
            "- 'slide002_core073.png'\n",
            "- 'slide007_core016.png'\n",
            "- 'slide003_core068.png'\n",
            "- 'slide002_core143.png'\n",
            "- 'slide002_core144.png'\n",
            "Overall classes per pixel: [18192657, 40266622, 59161440, 982849, 114250960]\n",
            "Overall classes per image: [99, 124, 158, 10, 245]\n",
            "Class_weights: [ 2.55987378  1.15656351  0.78718344 47.3835814   0.40761938]\n",
            "---------\n"
          ]
        }
      ]
    },
    {
      "cell_type": "code",
      "source": [
        "#  创建黄金标准标签比例文件夹：\n",
        "# create_gold_label_proportion_folders(config['output_dir'] + config['map_dir'],\n",
        "#                                      'STAPLE/', [20, 40, 60, 80, 100])\n",
        "create_gold_label_proportion_folders(config['output_dir'] + config['map_dir'],\n",
        "                                     'STAPLE/', [20, 40, 60, 80, 100], max_workers=512)"
      ],
      "metadata": {
        "id": "RNLW4vaRKHWh"
      },
      "execution_count": 14,
      "outputs": []
    }
  ]
}